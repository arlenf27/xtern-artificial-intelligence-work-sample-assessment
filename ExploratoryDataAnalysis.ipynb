{
 "cells": [
  {
   "cell_type": "code",
   "execution_count": 23,
   "id": "cdb38586-3f9c-4853-9091-09e5ee80af6f",
   "metadata": {},
   "outputs": [
    {
     "name": "stdout",
     "output_type": "stream",
     "text": [
      "5000\n",
      "{'Year 2': 2273, 'Year 3': 2719, 'Year 1': 5, 'Year 4': 3}\n",
      "{'Physics': 610, 'Chemistry': 640, 'Biology': 635, 'Business Administration': 334, 'Anthropology': 146, 'Mathematics': 582, 'Economics': 511, 'Astronomy': 619, 'Marketing': 239, 'Political Science': 309, 'Finance': 135, 'Sociology': 31, 'Accounting': 62, 'Psychology': 76, 'International Business': 29, 'Music': 21, 'Mechanical Engineering': 11, 'Philosophy': 4, 'Fine Arts': 3, 'Civil Engineering': 3}\n",
      "{'Indiana State University': 1309, 'Ball State University': 1085, 'Butler University': 1614, 'Indiana University-Purdue University Indianapolis (IUPUI)': 682, 'University of Notre Dame': 144, 'University of Evansville': 143, 'Valparaiso University': 9, 'Purdue University': 1, 'Indiana University Bloomington': 12, 'DePauw University': 1}\n",
      "{'12': 1314, '14': 883, '11': 857, '15': 282, '13': 1316, '17': 4, '9': 40, '10': 247, '16': 49, '8': 8}\n",
      "{'Fried Catfish Basket': 490, 'Sugar Cream Pie': 512, 'Indiana Pork Chili': 510, 'Indiana Corn on the Cob (brushed with garlic butter)': 495, 'Indiana Buffalo Chicken Tacos (3 tacos)': 496, 'Sweet Potato Fries': 508, 'Ultimate Grilled Cheese Sandwich (with bacon and tomato)': 503, 'Breaded Pork Tenderloin Sandwich': 494, 'Cornbread Hush Puppies': 510, 'Hoosier BBQ Pulled Pork Sandwich': 482}\n"
     ]
    }
   ],
   "source": [
    "import csv\n",
    "yearDict = {}\n",
    "majorDict = {}\n",
    "universityDict = {}\n",
    "timeDict = {}\n",
    "orderDict = {}\n",
    "numOrders = 0\n",
    "\n",
    "def addData(category, dict):\n",
    "    if row[category] not in dict:\n",
    "        dict.update({row[category]:1})\n",
    "    else: \n",
    "        dict.update({row[category]:dict.get(row[category])+1})\n",
    "\n",
    "with open('XTern 2024 Artificial Intelegence Data Set - Xtern_TrainData.csv', newline='') as csvfile:\n",
    "    reader = csv.DictReader(csvfile)\n",
    "    for row in reader:\n",
    "        numOrders+=1\n",
    "        addData('Year', yearDict)\n",
    "        addData('Major', majorDict)\n",
    "        addData('University', universityDict)\n",
    "        addData('Time', timeDict)\n",
    "        addData('Order', orderDict)\n",
    "\n",
    "print(numOrders)\n",
    "print(yearDict)\n",
    "print(majorDict)\n",
    "print(universityDict)\n",
    "print(timeDict)\n",
    "print(orderDict)"
   ]
  },
  {
   "cell_type": "code",
   "execution_count": null,
   "id": "60e46210-feeb-4a85-8cd5-3a10a5dacf15",
   "metadata": {},
   "outputs": [],
   "source": []
  }
 ],
 "metadata": {
  "kernelspec": {
   "display_name": "Python 3 (ipykernel)",
   "language": "python",
   "name": "python3"
  },
  "language_info": {
   "codemirror_mode": {
    "name": "ipython",
    "version": 3
   },
   "file_extension": ".py",
   "mimetype": "text/x-python",
   "name": "python",
   "nbconvert_exporter": "python",
   "pygments_lexer": "ipython3",
   "version": "3.11.5"
  }
 },
 "nbformat": 4,
 "nbformat_minor": 5
}
